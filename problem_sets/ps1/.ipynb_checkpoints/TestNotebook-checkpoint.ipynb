{
 "cells": [
  {
   "cell_type": "code",
   "execution_count": 1,
   "metadata": {},
   "outputs": [],
   "source": [
    "import numpy as np\n",
    "import matplotlib.pyplot as plt\n",
    "from scipy import interpolate"
   ]
  },
  {
   "cell_type": "code",
   "execution_count": 1,
   "metadata": {},
   "outputs": [],
   "source": [
    "def ndiff(fun, x, full):\n",
    "    #Define machine epsilon\n",
    "    eps = 2**-52\n",
    "    dx = eps**(1/3)\n",
    "    #Define value for dx to calculate two points\n",
    "    x1 = x+dx \n",
    "    dx=x1-x\n",
    "    #recalculate dx so that it represents the smallest amount between x and the next representable number \n",
    "    #in double-point precision\n",
    "    fx1 = fun(x + dx)\n",
    "    fx2 = fun(x - dx)\n",
    "    deriv = (fx1 - fx2)/(2*dx)\n",
    "    #From pdf notes, we can show that an estimate for the roundoff error is epsilon*f(x)/delta\n",
    "    #We decide to use the roundoff error as it gives an upper bound for the error \n",
    "    error = (eps*fun(x))/dx\n",
    "    if not full:\n",
    "        return deriv, dx, error\n",
    "    else : \n",
    "        return deriv"
   ]
  },
  {
   "cell_type": "code",
   "execution_count": 2,
   "metadata": {},
   "outputs": [
    {
     "name": "stdout",
     "output_type": "stream",
     "text": [
      "1.833426431250518e-11\n"
     ]
    },
    {
     "data": {
      "text/plain": [
       "(-0.2500000000091671, 6.055454452313924e-06, 1.8334264312745602e-11)"
      ]
     },
     "execution_count": 2,
     "metadata": {},
     "output_type": "execute_result"
    }
   ],
   "source": [
    "def func(x):\n",
    "    return 1/(1+x)\n",
    "ndiff(func, 1, False)"
   ]
  },
  {
   "cell_type": "code",
   "execution_count": 8,
   "metadata": {},
   "outputs": [
    {
     "name": "stdout",
     "output_type": "stream",
     "text": [
      "Error between estimated four point derivative and true derivative of exp(x) is: 5.115907697472721e-13\n",
      "Error between estimated four point derivative and true derivative of exp(0.01*x) is: 3.2959746043559335e-17\n"
     ]
    },
    {
     "data": {
      "text/plain": [
       "1.4432899320127035e-15"
      ]
     },
     "execution_count": 8,
     "metadata": {},
     "output_type": "execute_result"
    }
   ],
   "source": [
    "def problem1(x, func, fivefunc, firstfunc):\n",
    "    ##Input the x at which we measure delta, the function f(x) and it's 5th derivative. We also add\n",
    "    ## the first derivative which we'll use to compare our method to the true derivative of f(x). \n",
    "    ##This will help us determine if dx is good enough\n",
    "    eps = 2**-52\n",
    "    fx = func(x)\n",
    "    fx5 = fivefunc(x)\n",
    "    dx = ((eps * fx)/fx5)**(1/5)\n",
    "    fx1 = func(x + dx)\n",
    "    fx2 = func(x - dx)\n",
    "    fx3 = func(x + 2*dx)\n",
    "    fx4 = func(x - 2*dx)\n",
    "    deriv = (8*fx1 -8*fx2 - fx3 + fx4)/(12*dx)\n",
    "    error = abs(deriv-firstfunc(x))\n",
    "    return error\n",
    "\n",
    "def fun(x): \n",
    "    return np.exp(0.01*x)\n",
    "\n",
    "def fun1(x):\n",
    "    return 0.01*np.exp(0.01*x)\n",
    "\n",
    "def fun5(x):\n",
    "    return np.exp(0.01*x)*(0.01)**5\n",
    "\n",
    "sol1=problem1(3, np.exp, np.exp, np.exp)\n",
    "sol2=problem1(3, fun, fun5, fun1)\n",
    "print('Error between estimated four point derivative and true derivative of exp(x) is:', sol1)\n",
    "print('Error between estimated four point derivative and true derivative of exp(0.01*x) is:', sol2)\n"
   ]
  },
  {
   "cell_type": "code",
   "execution_count": 6,
   "metadata": {
    "scrolled": false
   },
   "outputs": [
    {
     "name": "stdout",
     "output_type": "stream",
     "text": [
      "The average error on the temperature values is: 0.03525996192404379\n"
     ]
    }
   ],
   "source": [
    "def Lakeshore(V, data):\n",
    "    #Extract temperature and voltage values from .txt file.\n",
    "    Voltage=data[:, 1]\n",
    "    Temperature=data[:, 0]\n",
    "    #We order the data so that we can use the spline interpolation.\n",
    "    #We zip the data first so that the the temperature and voltage \n",
    "    #values still match after sorting. \n",
    "    Volt, Temp = (list(t) for t in zip(*sorted(zip(Voltage, Temperature))))\n",
    "    #Perform an Initial Spline interpolation\n",
    "    spln=interpolate.splrep(Volt,Temp)\n",
    "    T=interpolate.splev(V, spln).tolist()\n",
    "    \n",
    "    ##Error calculation using bootstrap method.\n",
    "    \n",
    "    #Get list of all indexes.\n",
    "    index_range=[i for i in range(len(Volt))]\n",
    "    #Define sample size and number of samples.\n",
    "    sample_size=100\n",
    "    sample_number=20\n",
    "    #Initialize matrix for later.\n",
    "    matrix=[]\n",
    "    for i in range(sample_number):\n",
    "        #Get list of indices for each sample.\n",
    "        sample = np.random.choice(index_range, size=sample_size, replace=False)\n",
    "        #For each sample get the voltage and temperature values associated\n",
    "        #with each index.\n",
    "        newV=[]\n",
    "        newT=[]\n",
    "        for ind in sample: \n",
    "            newV.append(Volt[ind])\n",
    "            newT.append(Temp[ind])\n",
    "        #Since we are going to do a spline interpolation on the points selected above, \n",
    "        #we need to sort the lists again so that spline works.\n",
    "        newV, newT = (list(t) for t in zip(*sorted(zip(newV, newT))))\n",
    "        #Re-interpolate for each sample\n",
    "        spln_new=interpolate.splrep(newV, newT)\n",
    "        BooT=interpolate.splev(V, spln_new).tolist()\n",
    "        #We convert the new temperatures to lists in order to append them to the matrix.\n",
    "        matrix.append(BooT)\n",
    "    #After getting the temperatures for each sample and adding them to a matrix, \n",
    "    #we want to verticalize the matrix. This will allow us to get the variance values\n",
    "    #for each temperature value by using the matrix's columns\n",
    "    matrix=np.vstack(matrix)\n",
    "    #We check to see if the input is an array or not and calculate the standard deviation \n",
    "    #of each column to get the temperature error\n",
    "    if isinstance(V, float):\n",
    "        error=np.std(matrix)\n",
    "    else : \n",
    "        error=[np.std(matrix[:, i]) for i in range(len(V))]\n",
    "    return T, error\n",
    "\n",
    "solution=Lakeshore(np.array([0.6, 0.8, 1.2, 1.4]), dat)\n",
    "mean_err=np.mean(solution[1])\n",
    "print(\"The average error on the temperature values is:\", mean_err)"
   ]
  },
  {
   "cell_type": "code",
   "execution_count": 56,
   "metadata": {},
   "outputs": [
    {
     "name": "stdout",
     "output_type": "stream",
     "text": [
      "[500.   490.   480.   470.   460.   450.   440.   430.   420.   410.\n",
      " 400.   390.   380.   370.   360.   350.   340.   330.   320.   310.\n",
      " 300.   290.   280.   273.   270.   260.   250.   240.   230.   220.\n",
      " 210.   200.   190.   180.   170.   160.   150.   140.   130.   120.\n",
      " 110.   100.    90.    85.    80.    77.35  75.    70.    65.    60.\n",
      "  58.    56.    54.    52.    50.    48.    46.    44.    42.    40.\n",
      "  39.    38.    37.    36.    35.    34.    33.    32.    31.    30.\n",
      "  29.    28.    27.    26.    25.    24.    23.    22.    21.    20.\n",
      "  19.5   19.    18.5   18.    17.5   17.    16.5   16.    15.5   15.\n",
      "  14.5   14.    13.5   13.    12.5   12.    11.5   11.    10.5   10.\n",
      "   9.5    9.     8.5    8.     7.5    7.     6.5    6.     5.8    5.6\n",
      "   5.4    5.2    5.     4.8    4.6    4.4    4.2    4.     3.9    3.8\n",
      "   3.7    3.6    3.5    3.4    3.3    3.2    3.1    3.     2.9    2.8\n",
      "   2.7    2.6    2.5    2.4    2.3    2.2    2.1    2.     1.9    1.8\n",
      "   1.7    1.6    1.5    1.4 ]\n"
     ]
    },
    {
     "data": {
      "image/png": "[encoded data removed]",
      "text/plain": [
       "<Figure size 432x288 with 1 Axes>"
      ]
     },
     "metadata": {
      "needs_background": "light"
     },
     "output_type": "display_data"
    },
    {
     "data": {
      "image/png": "[encoded data removed]",
      "text/plain": [
       "<Figure size 432x288 with 1 Axes>"
      ]
     },
     "metadata": {
      "needs_background": "light"
     },
     "output_type": "display_data"
    },
    {
     "data": {
      "text/plain": [
       "array(8.79130218)"
      ]
     },
     "execution_count": 56,
     "metadata": {},
     "output_type": "execute_result"
    }
   ],
   "source": [
    "spln=interpolate.splrep(np.sort(Volt),Temp)\n",
    "T=interpolate.splev(Volt, spln)\n",
    "print(T)\n",
    "plt.plot(Volt, Temp, 'b.')\n",
    "plt.plot(Volt, T, 'r.')\n",
    "plt.show()\n",
    "plt.plot(Volt, Temp-T, 'g.')\n",
    "plt.plot(Volt, Temp*0, 'k')\n",
    "plt.show()\n",
    "\n",
    "def Lakeshore2(V, data):\n",
    "    Temp=data[:, 0]\n",
    "    Volt=data[:, 1]\n",
    "    spln=interpolate.splrep(np.sort(Volt),Temp)\n",
    "    T=interpolate.splev(V, spln)\n",
    "    return T\n",
    "  \n",
    "Lakeshore2(1, dat)"
   ]
  },
  {
   "cell_type": "code",
   "execution_count": 47,
   "metadata": {},
   "outputs": [
    {
     "name": "stdout",
     "output_type": "stream",
     "text": [
      "[  1.4    1.5    1.6    1.7    1.8    1.9    2.     2.1    2.2    2.3\n",
      "   2.4    2.5    2.6    2.7    2.8    2.9    3.     3.1    3.2    3.3\n",
      "   3.4    3.5    3.6    3.7    3.8    3.9    4.     4.2    4.4    4.6\n",
      "   4.8    5.     5.2    5.4    5.6    5.8    6.     6.5    7.     7.5\n",
      "   8.     8.5    9.     9.5   10.    10.5   11.    11.5   12.    12.5\n",
      "  13.    13.5   14.    14.5   15.    15.5   16.    16.5   17.    17.5\n",
      "  18.    18.5   19.    19.5   20.    21.    22.    23.    24.    25.\n",
      "  26.    27.    28.    29.    30.    31.    32.    33.    34.    35.\n",
      "  36.    37.    38.    39.    40.    42.    44.    46.    48.    50.\n",
      "  52.    54.    56.    58.    60.    65.    70.    75.    77.35  80.\n",
      "  85.    90.   100.   110.   120.   130.   140.   150.   160.   170.\n",
      " 180.   190.   200.   210.   220.   230.   240.   250.   260.   270.\n",
      " 273.   280.   290.   300.   310.   320.   330.   340.   350.   360.\n",
      " 370.   380.   390.   400.   410.   420.   430.   440.   450.   460.\n",
      " 470.   480.   490.   500.  ]\n",
      "[0.090681 0.112553 0.13548  0.15901  0.182832 0.206758 0.230697 0.254592\n",
      " 0.278416 0.302161 0.325839 0.349453 0.373002 0.396503 0.41996  0.443371\n",
      " 0.46676  0.490106 0.513361 0.536542 0.559639 0.582637 0.605528 0.621141\n",
      " 0.628302 0.650949 0.673462 0.695834 0.718054 0.740115 0.762007 0.78372\n",
      " 0.805242 0.82656  0.847659 0.868518 0.889114 0.909416 0.92939  0.949\n",
      " 0.968209 0.986974 1.005244 1.014181 1.022984 1.027594 1.031651 1.040183\n",
      " 1.048584 1.056862 1.060141 1.063403 1.06665  1.069881 1.073099 1.076303\n",
      " 1.079492 1.082669 1.085842 1.089024 1.090627 1.092244 1.093878 1.095534\n",
      " 1.097216 1.09893  1.100681 1.102476 1.104324 1.106244 1.108261 1.110421\n",
      " 1.11281  1.115658 1.119448 1.125923 1.140817 1.162797 1.181548 1.197748\n",
      " 1.20548  1.21311  1.2207   1.2283   1.23596  1.24372  1.25161  1.25967\n",
      " 1.26794  1.27645  1.28526  1.29439  1.3039   1.31381  1.32416  1.33499\n",
      " 1.34632  1.3582   1.37065  1.38373  1.39751  1.41207  1.42747  1.44374\n",
      " 1.46086  1.47868  1.49698  1.51541  1.52273  1.53     1.53721  1.54436\n",
      " 1.55145  1.55845  1.56533  1.57202  1.57848  1.58465  1.58764  1.59057\n",
      " 1.59344  1.59626  1.59902  1.60173  1.60438  1.60697  1.60951  1.612\n",
      " 1.61445  1.61687  1.61928  1.62166  1.624    1.62629  1.62852  1.63067\n",
      " 1.63274  1.63472  1.6366   1.63837  1.64003  1.64157  1.64299  1.64429 ]\n",
      "[ 77.35  11.   480.    17.     4.4  480.   490.    33.     6.    18.\n",
      " 420.     1.7   15.     4.8    1.7    1.4   31.    90.   370.    22.\n",
      "  12.5   14.    58.    75.   230.   273.     3.8  280.    65.     1.4\n",
      "  33.   500.    24.    15.     3.1  410.    13.    13.5    3.1   48.\n",
      " 370.     6.5  450.     3.8   25.    65.     3.     1.7 ]\n"
     ]
    },
    {
     "data": {
      "text/plain": [
       "1.079492"
      ]
     },
     "execution_count": 47,
     "metadata": {},
     "output_type": "execute_result"
    }
   ],
   "source": [
    "print(Temp)\n",
    "print(Volt)\n",
    "print(np.random.choice(Temp, size=48, replace=True))\n",
    "np.random.choice(Volt, replace=True)"
   ]
  },
  {
   "cell_type": "code",
   "execution_count": 51,
   "metadata": {},
   "outputs": [
    {
     "name": "stdout",
     "output_type": "stream",
     "text": [
      "[123, 40, 103, 133, 84, 54]\n",
      "[45, 74, 96, 15, 32, 89]\n",
      "[65, 22, 23, 8, 33, 18]\n",
      "[96, 134, 106, 139, 29, 1]\n",
      "[92, 11, 11, 6, 15, 139]\n",
      "[56, 107, 53, 38, 134, 133]\n",
      "[14, 109, 99, 101, 110, 81]\n",
      "[37, 16, 52, 55, 0, 29]\n",
      "[127, 24, 55, 4, 14, 96]\n",
      "[62, 37, 65, 13, 53, 118]\n",
      "[25, 58, 107, 138, 28, 136]\n",
      "[58, 102, 79, 85, 129, 61]\n",
      "[68, 58, 123, 24, 135, 94]\n",
      "[104, 139, 98, 130, 135, 125]\n",
      "[115, 5, 6, 83, 66, 102]\n",
      "[13, 89, 111, 67, 96, 127]\n",
      "[97, 51, 80, 11, 23, 94]\n",
      "[68, 139, 23, 6, 98, 93]\n",
      "[72, 38, 72, 121, 72, 143]\n",
      "[57, 97, 126, 70, 103, 91]\n",
      "[90, 6, 29, 26, 41, 85]\n",
      "[125, 133, 2, 7, 94, 31]\n",
      "[70, 42, 20, 15, 46, 116]\n",
      "[25, 53, 46, 92, 5, 53]\n",
      "[2, 130, 51, 104, 15, 113]\n",
      "[132, 86, 19, 123, 53, 18]\n",
      "[48, 80, 112, 21, 134, 98]\n",
      "[33, 11, 132, 45, 114, 77]\n",
      "[133, 96, 100, 93, 109, 80]\n",
      "[14, 41, 50, 72, 30, 39]\n",
      "[135, 23, 20, 74, 77, 99]\n",
      "[129, 128, 126, 54, 45, 84]\n",
      "[88, 76, 40, 16, 39, 130]\n",
      "[25, 54, 36, 21, 17, 22]\n",
      "[47, 36, 35, 143, 121, 47]\n",
      "[33, 92, 67, 84, 54, 45]\n",
      "[6, 88, 92, 119, 22, 17]\n",
      "[13, 29, 5, 39, 59, 102]\n",
      "[47, 47, 109, 51, 143, 143]\n",
      "[124, 58, 13, 135, 85, 67]\n",
      "[136, 123, 109, 64, 16, 63]\n",
      "[52, 52, 76, 12, 125, 84]\n",
      "[98, 33, 13, 88, 10, 23]\n",
      "[70, 123, 66, 136, 66, 10]\n",
      "[37, 113, 32, 12, 94, 10]\n",
      "[0, 61, 95, 63, 20, 84]\n",
      "[55, 124, 141, 3, 118, 43]\n",
      "[83, 133, 127, 58, 84, 101]\n",
      "[95, 84, 84, 139, 1, 100]\n",
      "[4, 141, 104, 27, 114, 5]\n",
      "[108, 121, 143, 4, 75, 65]\n",
      "[133, 117, 129, 113, 70, 69]\n",
      "[133, 0, 11, 3, 74, 120]\n",
      "[46, 107, 49, 52, 106, 45]\n",
      "[10, 27, 106, 93, 110, 134]\n",
      "[103, 70, 32, 8, 85, 18]\n",
      "[111, 5, 122, 31, 1, 122]\n",
      "[50, 49, 8, 1, 13, 122]\n",
      "[24, 116, 87, 39, 137, 19]\n",
      "[97, 93, 82, 25, 68, 11]\n",
      "[97, 49, 131, 64, 106, 30]\n",
      "[86, 40, 114, 68, 64, 55]\n",
      "[64, 72, 31, 5, 142, 9]\n",
      "[74, 85, 114, 20, 48, 99]\n",
      "[1, 142, 92, 27, 47, 54]\n",
      "[6, 115, 130, 120, 78, 115]\n",
      "[9, 6, 103, 5, 114, 58]\n",
      "[141, 143, 54, 42, 134, 102]\n",
      "[137, 88, 130, 122, 8, 32]\n",
      "[2, 13, 5, 50, 63, 75]\n",
      "[59, 12, 132, 74, 38, 79]\n",
      "[129, 125, 139, 10, 135, 18]\n",
      "[109, 96, 139, 72, 109, 22]\n",
      "[65, 120, 73, 67, 118, 9]\n",
      "[44, 127, 129, 95, 77, 58]\n",
      "[124, 4, 22, 12, 104, 118]\n",
      "[39, 83, 97, 88, 12, 47]\n",
      "[32, 79, 24, 125, 11, 92]\n",
      "[92, 1, 51, 17, 2, 50]\n",
      "[9, 137, 77, 91, 82, 8]\n",
      "[43, 11, 16, 125, 89, 83]\n",
      "[90, 69, 30, 30, 105, 35]\n",
      "[43, 117, 42, 42, 112, 67]\n",
      "[71, 142, 96, 138, 36, 17]\n",
      "[59, 102, 95, 33, 108, 73]\n",
      "[124, 110, 29, 61, 125, 3]\n",
      "[135, 106, 142, 6, 84, 120]\n",
      "[63, 102, 48, 123, 116, 115]\n",
      "[140, 60, 21, 50, 65, 65]\n",
      "[74, 78, 75, 86, 132, 74]\n",
      "[107, 140, 118, 119, 8, 22]\n",
      "[42, 119, 47, 77, 69, 38]\n",
      "[67, 17, 110, 81, 53, 110]\n",
      "[108, 60, 107, 116, 43, 48]\n",
      "[90, 133, 124, 48, 124, 117]\n",
      "[51, 135, 33, 1, 61, 126]\n",
      "[105, 39, 117, 128, 25, 40]\n",
      "[61, 139, 66, 59, 20, 88]\n",
      "[7, 18, 5, 138, 109, 34]\n",
      "[34, 13, 113, 1, 35, 76]\n",
      "[134, 61, 30, 132, 50, 17]\n",
      "[93, 1, 1, 57, 66, 107]\n",
      "[35, 11, 114, 142, 4, 58]\n",
      "[129, 51, 64, 13, 43, 130]\n",
      "[95, 0, 16, 77, 111, 139]\n",
      "[129, 29, 52, 139, 3, 6]\n",
      "[119, 112, 134, 38, 44, 10]\n",
      "[39, 20, 1, 15, 82, 36]\n",
      "[134, 118, 81, 46, 19, 140]\n",
      "[95, 134, 33, 14, 142, 20]\n",
      "[54, 135, 67, 77, 47, 66]\n",
      "[90, 111, 17, 113, 99, 96]\n",
      "[93, 116, 6, 141, 74, 45]\n",
      "[34, 74, 85, 19, 7, 80]\n",
      "[109, 103, 14, 32, 80, 72]\n",
      "[87, 94, 70, 37, 55, 129]\n",
      "[27, 10, 116, 16, 123, 17]\n",
      "[46, 119, 102, 124, 57, 29]\n",
      "[73, 19, 120, 64, 69, 46]\n",
      "[65, 85, 46, 120, 71, 73]\n",
      "[62, 8, 35, 32, 77, 71]\n",
      "[85, 67, 131, 47, 79, 127]\n",
      "[32, 96, 58, 57, 90, 106]\n",
      "[64, 64, 1, 75, 97, 6]\n",
      "[9, 25, 28, 30, 56, 66]\n",
      "[108, 89, 117, 134, 143, 52]\n",
      "[29, 43, 17, 97, 126, 118]\n",
      "[106, 31, 19, 41, 48, 121]\n",
      "[8, 85, 138, 25, 66, 44]\n",
      "[141, 16, 37, 16, 11, 46]\n",
      "[122, 96, 5, 38, 86, 122]\n",
      "[128, 107, 26, 121, 26, 10]\n",
      "[126, 3, 85, 132, 71, 81]\n",
      "[8, 78, 45, 40, 131, 67]\n",
      "[108, 137, 81, 8, 70, 6]\n",
      "[24, 1, 50, 120, 29, 3]\n",
      "[55, 29, 57, 10, 129, 64]\n",
      "[50, 59, 36, 128, 8, 19]\n",
      "[26, 76, 83, 122, 48, 26]\n",
      "[19, 18, 69, 8, 78, 44]\n",
      "[95, 17, 10, 57, 93, 127]\n",
      "[121, 75, 125, 112, 99, 53]\n",
      "[119, 45, 61, 56, 30, 95]\n",
      "[10, 113, 1, 68, 97, 124]\n"
     ]
    }
   ],
   "source": [
    "dat = np.loadtxt('/Users/samsonmercier/Desktop/PHYS512/problem_sets/ps1/lakeshore.txt')\n",
    "Temp=dat[:, 0]\n",
    "Volt=dat[:, 1]\n",
    "sample_size = 6\n",
    "sample_number = 144\n",
    "newVolt, newTemp = (list(t) for t in zip(*sorted(zip(Volt, Temp))))\n",
    "sample=[np.random.choice(newVolt, size=sample_size, replace=True) for i in range(sample_number)]\n",
    "for volt in sample:\n",
    "    Indexlist=[]\n",
    "    corTemp=[]\n",
    "    for i in volt: \n",
    "        index=np.where(i==newVolt)\n",
    "        corTemp.append(newTemp[index[0][0]])\n",
    "        Indexlist.append(index[0][0])\n",
    "    print(Indexlist)\n",
    "    upvolt, uptemp = (list(t) for t in zip(*sorted(zip(volt, corTemp))))\n",
    "    spln=interpolate.splrep(upvolt,uptemp)\n",
    "    interpol=interpolate.splev(volt, spln)\n"
   ]
  },
  {
   "cell_type": "code",
   "execution_count": 59,
   "metadata": {
    "scrolled": false
   },
   "outputs": [
    {
     "name": "stdout",
     "output_type": "stream",
     "text": [
      "[[ 1.00000000e+00 -1.00000000e+00  1.00000000e+00 -1.00000000e+00\n",
      "   1.00000000e+00  5.00000000e-01 -5.00000000e-01  5.00000000e-01\n",
      "  -5.00000000e-01  5.00000000e-01]\n",
      " [ 1.00000000e+00 -7.77777778e-01  6.04938272e-01 -4.70507545e-01\n",
      "   3.65950312e-01  4.84615385e-01 -3.76923077e-01  2.93162393e-01\n",
      "  -2.28015195e-01  1.77345151e-01]\n",
      " [ 1.00000000e+00 -5.55555556e-01  3.08641975e-01 -1.71467764e-01\n",
      "   9.52598689e-02  4.24528302e-01 -2.35849057e-01  1.31027254e-01\n",
      "  -7.27929187e-02  4.04405104e-02]\n",
      " [ 1.00000000e+00 -3.33333333e-01  1.11111111e-01 -3.70370370e-02\n",
      "   1.23456790e-02  3.00000000e-01 -1.00000000e-01  3.33333333e-02\n",
      "  -1.11111111e-02  3.70370370e-03]\n",
      " [ 1.00000000e+00 -1.11111111e-01  1.23456790e-02 -1.37174211e-03\n",
      "   1.52415790e-04  1.09756098e-01 -1.21951220e-02  1.35501355e-03\n",
      "  -1.50557061e-04  1.67285623e-05]\n",
      " [ 1.00000000e+00  1.11111111e-01  1.23456790e-02  1.37174211e-03\n",
      "   1.52415790e-04 -1.09756098e-01 -1.21951220e-02 -1.35501355e-03\n",
      "  -1.50557061e-04 -1.67285623e-05]\n",
      " [ 1.00000000e+00  3.33333333e-01  1.11111111e-01  3.70370370e-02\n",
      "   1.23456790e-02 -3.00000000e-01 -1.00000000e-01 -3.33333333e-02\n",
      "  -1.11111111e-02 -3.70370370e-03]\n",
      " [ 1.00000000e+00  5.55555556e-01  3.08641975e-01  1.71467764e-01\n",
      "   9.52598689e-02 -4.24528302e-01 -2.35849057e-01 -1.31027254e-01\n",
      "  -7.27929187e-02 -4.04405104e-02]\n",
      " [ 1.00000000e+00  7.77777778e-01  6.04938272e-01  4.70507545e-01\n",
      "   3.65950312e-01 -4.84615385e-01 -3.76923077e-01 -2.93162393e-01\n",
      "  -2.28015195e-01 -1.77345151e-01]\n",
      " [ 1.00000000e+00  1.00000000e+00  1.00000000e+00  1.00000000e+00\n",
      "   1.00000000e+00 -5.00000000e-01 -5.00000000e-01 -5.00000000e-01\n",
      "  -5.00000000e-01 -5.00000000e-01]]\n",
      "[ 1.00000000e+00  1.11022302e-15 -3.33333333e-01  1.94289029e-15\n",
      " -1.77635684e-15] [ 1.33226763e-15  6.66666667e-01  1.77635684e-15 -3.33333333e-01\n",
      "  8.88178420e-16]\n",
      "1.737773907273091e-16 0.005321366333657065 6.553137838315995e-16\n"
     ]
    },
    {
     "data": {
      "image/png": "[encoded data removed]",
      "text/plain": [
       "<Figure size 432x288 with 1 Axes>"
      ]
     },
     "metadata": {
      "needs_background": "light"
     },
     "output_type": "display_data"
    },
    {
     "data": {
      "image/png": "[encoded data removed]",
      "text/plain": [
       "<Figure size 432x288 with 1 Axes>"
      ]
     },
     "metadata": {
      "needs_background": "light"
     },
     "output_type": "display_data"
    },
    {
     "data": {
      "image/png": "[encoded data removed]",
      "text/plain": [
       "<Figure size 432x288 with 1 Axes>"
      ]
     },
     "metadata": {
      "needs_background": "light"
     },
     "output_type": "display_data"
    },
    {
     "data": {
      "image/png": "[encoded data removed]",
      "text/plain": [
       "<Figure size 432x288 with 1 Axes>"
      ]
     },
     "metadata": {
      "needs_background": "light"
     },
     "output_type": "display_data"
    },
    {
     "name": "stdout",
     "output_type": "stream",
     "text": [
      "1.225373968960497e-13\n"
     ]
    }
   ],
   "source": [
    "xx=np.linspace(-np.pi/2, np.pi/2, 10)\n",
    "yy=np.cos(xx)\n",
    "m=len(yy)//2\n",
    "n=len(yy)-m-1\n",
    "\n",
    "xxx=np.linspace(-1, 1, 10)\n",
    "yyy=1/(1+xxx**2)\n",
    "m=len(yyy)//2\n",
    "n=len(yyy)-m-1\n",
    "\n",
    "def rateval(x,p,q):\n",
    "    top=0\n",
    "    for i,par in enumerate(p):\n",
    "        top=top+par*x**i\n",
    "    bot=1\n",
    "    for i,par in enumerate(q):\n",
    "        bot=bot+par*x**(i+1)\n",
    "    return top/bot\n",
    "\n",
    "def ratfit(y,x,n,m):\n",
    "    npt=len(x)\n",
    "    assert(len(y)==npt)\n",
    "    assert(n>=0)\n",
    "    assert(m>=0)\n",
    "    assert(n+1+m==npt)\n",
    "\n",
    "    top_mat=np.empty([npt,n+1])\n",
    "    bot_mat=np.empty([npt,m])\n",
    "    for i in range(n+1):\n",
    "        top_mat[:,i]=x**i\n",
    "    for i in range(m):\n",
    "        bot_mat[:,i]=y*x**(i+1)\n",
    "    mat=np.hstack([top_mat,-bot_mat])\n",
    "    print(mat)\n",
    "    pars=np.linalg.pinv(mat)@y\n",
    "    p=pars[:n+1]\n",
    "    q=pars[n+1:]\n",
    "    return mat,p,q\n",
    "    \n",
    "def spline(x, y):\n",
    "    ##Spline interpolation\n",
    "    x, y = (list(t) for t in zip(*sorted(zip(x, y))))\n",
    "    spln=interpolate.splrep(x, y)\n",
    "    newy1=interpolate.splev(x, spln)\n",
    "    accur1 = np.std(newy1-y)\n",
    "    return newy1, accur1\n",
    "def poly(x, y):\n",
    "    ##Poly interpolation\n",
    "    p=np.polyfit(x,y,5)\n",
    "    newy2=np.polyval(p, x)\n",
    "    accur2 = np.std(newy2-y)\n",
    "    return newy2, accur2\n",
    "def rational(x, y, n, m):\n",
    "    ##Rational interpolation\n",
    "    mat, p, q=ratfit(y, x, n, m)\n",
    "    newy3 = rateval(x, p, q)\n",
    "    accur3 = np.std(newy3-y)\n",
    "    print(p, q)\n",
    "    return newy3, accur3\n",
    "\n",
    "yy1, a1 = spline(xxx, yyy)\n",
    "yy2, a2 = poly(xxx, yyy)\n",
    "yy3, a3 = rational(xxx, yyy, 4, 5)\n",
    "print(a1, a2, a3)\n",
    "plt.title('Spline')\n",
    "plt.plot(xxx, yy1, 'r.')\n",
    "plt.plot(xxx, yyy, 'b.')\n",
    "plt.show()\n",
    "plt.title('Polynomial')\n",
    "plt.plot(xxx, yy2, 'g.')\n",
    "plt.plot(xxx, yyy, 'b.')\n",
    "plt.show()\n",
    "plt.title('Rational')\n",
    "plt.plot(xxx, yy3, 'c.')\n",
    "plt.plot(xxx, yyy, 'b.')\n",
    "plt.show()\n",
    "plt.plot(xxx, yyy-yy2, 'g.')\n",
    "plt.plot(xxx, yyy-yy1, 'r.')\n",
    "plt.plot(xxx, yyy-yy3, 'c.')\n",
    "plt.plot(xxx, yyy*0, 'k')\n",
    "plt.show()\n",
    "print(0.03101674705470529 - 0.031016747054582752)"
   ]
  },
  {
   "cell_type": "code",
   "execution_count": 29,
   "metadata": {},
   "outputs": [
    {
     "name": "stdout",
     "output_type": "stream",
     "text": [
      "[[ 1.00000000e+00 -1.57079633e+00  2.46740110e+00 -3.87578459e+00\n",
      "   6.08806819e+00  9.61835347e-17 -1.51084743e-16  2.37323359e-16\n",
      "  -3.72786661e-16  5.85571918e-16]\n",
      " [ 1.00000000e+00 -1.22173048e+00  1.49262536e+00 -1.82358589e+00\n",
      "   2.22793046e+00  4.17856433e-01 -5.10507939e-01  6.23703107e-01\n",
      "  -7.61997094e-01  9.30955073e-01]\n",
      " [ 1.00000000e+00 -8.72664626e-01  7.61543549e-01 -6.64572117e-01\n",
      "   5.79948578e-01  5.60938009e-01 -4.89510758e-01  4.27178722e-01\n",
      "  -3.72783760e-01  3.25315201e-01]\n",
      " [ 1.00000000e+00 -5.23598776e-01  2.74155678e-01 -1.43547577e-01\n",
      "   7.51613357e-02  4.53449841e-01 -2.37425782e-01  1.24315849e-01\n",
      "  -6.50916261e-02  3.40818957e-02]\n",
      " [ 1.00000000e+00 -1.74532925e-01  3.04617420e-02 -5.31657693e-03\n",
      "   9.27917724e-04  1.71881378e-01 -2.99989597e-02  5.23580618e-03\n",
      "  -9.13820569e-04  1.59491777e-04]\n",
      " [ 1.00000000e+00  1.74532925e-01  3.04617420e-02  5.31657693e-03\n",
      "   9.27917724e-04 -1.71881378e-01 -2.99989597e-02 -5.23580618e-03\n",
      "  -9.13820569e-04 -1.59491777e-04]\n",
      " [ 1.00000000e+00  5.23598776e-01  2.74155678e-01  1.43547577e-01\n",
      "   7.51613357e-02 -4.53449841e-01 -2.37425782e-01 -1.24315849e-01\n",
      "  -6.50916261e-02 -3.40818957e-02]\n",
      " [ 1.00000000e+00  8.72664626e-01  7.61543549e-01  6.64572117e-01\n",
      "   5.79948578e-01 -5.60938009e-01 -4.89510758e-01 -4.27178722e-01\n",
      "  -3.72783760e-01 -3.25315201e-01]\n",
      " [ 1.00000000e+00  1.22173048e+00  1.49262536e+00  1.82358589e+00\n",
      "   2.22793046e+00 -4.17856433e-01 -5.10507939e-01 -6.23703107e-01\n",
      "  -7.61997094e-01 -9.30955073e-01]\n",
      " [ 1.00000000e+00  1.57079633e+00  2.46740110e+00  3.87578459e+00\n",
      "   6.08806819e+00 -9.61835347e-17 -1.51084743e-16 -2.37323359e-16\n",
      "  -3.72786661e-16 -5.85571918e-16]]\n"
     ]
    },
    {
     "data": {
      "text/plain": [
       "array([1.91852833e-13, 3.42020143e-01, 6.42787610e-01, 8.66025404e-01,\n",
       "       9.84807753e-01, 9.84807753e-01, 8.66025404e-01, 6.42787610e-01,\n",
       "       3.42020143e-01, 2.17630321e-11])"
      ]
     },
     "execution_count": 29,
     "metadata": {},
     "output_type": "execute_result"
    }
   ],
   "source": [
    "1st-[ -3.48359942   0.         -12.           2.           4.28436418] [ 8. -6.  0.  0.  8.]\n",
    "2nd-[ 21.70106792  14.5         -7.         -12.5         -2.\n",
    "   4.          12.          -3.75         1.5          0.84157394] [ 3.    4.   -4.    5.    2.   11.    2.    4.   -2.25 -2.  ]\n",
    "3rd-[ 1.00000000e+00  1.11022302e-15 -3.33333333e-01  1.94289029e-15\n",
    " -1.77635684e-15] [ 1.33226763e-15  6.66666667e-01  1.77635684e-15 -3.33333333e-01\n",
    "  8.88178420e-16]"
   ]
  },
  {
   "cell_type": "code",
   "execution_count": 73,
   "metadata": {},
   "outputs": [
    {
     "name": "stdout",
     "output_type": "stream",
     "text": [
      "The accuracy of polynomial interpolation for cos is: 0.00044430747607475266\n",
      "The accuracy of spline interpolation for cos is: 1.6057448443445607e-16\n",
      "The accuracy of rational function interpolation for cos is: 0.01385613699540534\n",
      "The accuracy of polynomial interpolation for cos is: 0.005511425445639363\n",
      "The accuracy of spline interpolation for cos is: 1.1362849267314968e-16\n",
      "The accuracy of rational function interpolation for cos is: 9.343356743488386\n"
     ]
    }
   ],
   "source": [
    "xx=np.linspace(-np.pi/2, np.pi/2, 20)\n",
    "yy=np.cos(xx)\n",
    "m1=len(yy)//2\n",
    "n1=len(yy)-m1-1\n",
    "\n",
    "xxx=np.linspace(-1, 1, 20)\n",
    "yyy=[]\n",
    "for i in xxx:\n",
    "    yyy.append(1/(1+i**2))\n",
    "m2=len(yyy)//2\n",
    "n2=len(yyy)-m2-1\n",
    "\n",
    "##Using the rateval and ratfit function defined in class for the ratioanl function interpolation.\n",
    "def rateval(x,p,q):\n",
    "    top=0\n",
    "    for i,par in enumerate(p):\n",
    "        top=top+par*x**i\n",
    "    bot=1\n",
    "    for i,par in enumerate(q):\n",
    "        bot=bot+par*x**(i+1)\n",
    "    return top/bot\n",
    "\n",
    "def ratfit(y,x,n,m):\n",
    "    npt=len(x)\n",
    "    assert(len(y)==npt)\n",
    "    assert(n>=0)\n",
    "    assert(m>=0)\n",
    "    assert(n+1+m==npt)\n",
    "\n",
    "    top_mat=np.empty([npt,n+1])\n",
    "    bot_mat=np.empty([npt,m])\n",
    "    for i in range(n+1):\n",
    "        top_mat[:,i]=x**i\n",
    "    for i in range(m):\n",
    "        bot_mat[:,i]=y*x**(i+1)\n",
    "    mat=np.hstack([top_mat,-bot_mat])\n",
    "    pars=np.linalg.inv(mat)@y\n",
    "    p=pars[:n+1]\n",
    "    q=pars[n+1:]\n",
    "    return mat,p,q\n",
    "\n",
    "def spline(x, y):\n",
    "    ##Spline interpolation\n",
    "    x, y = (list(t) for t in zip(*sorted(zip(x, y))))\n",
    "    spln=interpolate.splrep(x, y)\n",
    "    newy1=interpolate.splev(x, spln)\n",
    "    accur1 = np.std(newy1-y)\n",
    "    return newy1, accur1\n",
    "def poly(x, y):\n",
    "    ##Poly interpolation\n",
    "    p=np.polyfit(x,y,5)\n",
    "    newy2=np.polyval(p, x)\n",
    "    accur2 = np.std(newy2-y)\n",
    "    return newy2, accur2\n",
    "def rational(x, y, m, n):\n",
    "    ##Rational interpolation\n",
    "    mat, p, q=ratfit(y, x, n, m)\n",
    "    newy3 = rateval(x, p, q)\n",
    "    accur3 = np.std(newy3-y)\n",
    "    return newy3, accur3\n",
    "\n",
    "y1, a1 = poly(xx, yy)\n",
    "y2, a2 = spline(xx, yy)\n",
    "y3, a3 = rational(xx, yy, m1, n1)\n",
    "print(\"The accuracy of polynomial interpolation for cos is:\", a1)\n",
    "print(\"The accuracy of spline interpolation for cos is:\", a2)\n",
    "print(\"The accuracy of rational function interpolation for cos is:\", a3)\n",
    "\n",
    "y4, a4 = poly(xxx, yyy)\n",
    "y5, a5 = spline(xxx, yyy)\n",
    "y6, a6 = rational(xxx, yyy, m2, n2)\n",
    "print(\"The accuracy of polynomial interpolation for cos is:\", a4)\n",
    "print(\"The accuracy of spline interpolation for cos is:\", a5)\n",
    "print(\"The accuracy of rational function interpolation for cos is:\", a6)\n",
    "\n",
    "##We expect the Lorentz function to be well interpolated by rational functions between -1 and 1, since that is the range\n",
    "##where to function is well-described by a Taylor series. However, we observe that rational interpolation performs the worst\n",
    "##among the three methods used, when using np.linalg.inv. \n",
    "##Increasing the order gives a better accuracy, however it still remains orders of mangitude higher than the other methods. When\n",
    "##we switch to np.linalg.pinv there is a noticeable improvement.In this case, rational interpolation outperforms polynomial\n",
    "##interpolation but not spline. \n",
    "##Looking at p and q, we can see that as we increase the order, more terms appear in p and q. This would explain the increase in\n",
    "##accuracy that we witness, as it allows for a more descriptive interpolation of the data. \n",
    "##However, looking at p and q after using np.linalg.pinv we notice that \n",
    "\n"
   ]
  },
  {
   "cell_type": "code",
   "execution_count": null,
   "metadata": {},
   "outputs": [],
   "source": []
  }
 ],
 "metadata": {
  "kernelspec": {
   "display_name": "Python 3",
   "language": "python",
   "name": "python3"
  },
  "language_info": {
   "codemirror_mode": {
    "name": "ipython",
    "version": 3
   },
   "file_extension": ".py",
   "mimetype": "text/x-python",
   "name": "python",
   "nbconvert_exporter": "python",
   "pygments_lexer": "ipython3",
   "version": "3.8.5"
  }
 },
 "nbformat": 4,
 "nbformat_minor": 4
}
