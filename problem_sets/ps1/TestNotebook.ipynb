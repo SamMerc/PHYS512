{
 "cells": [
  {
   "cell_type": "code",
   "execution_count": 1,
   "metadata": {},
   "outputs": [],
   "source": [
    "import numpy as np\n",
    "import matplotlib.pyplot as plt"
   ]
  },
  {
   "cell_type": "code",
   "execution_count": 2,
   "metadata": {},
   "outputs": [],
   "source": [
    "x = np.linspace(-np.pi/2, np.pi/2, 100)\n",
    "y_true = np.cos(x)"
   ]
  },
  {
   "cell_type": "code",
   "execution_count": 3,
   "metadata": {},
   "outputs": [
    {
     "data": {
      "text/plain": [
       "[<matplotlib.lines.Line2D at 0x7fb98b79f550>]"
      ]
     },
     "execution_count": 3,
     "metadata": {},
     "output_type": "execute_result"
    },
    {
     "data": {
      "image/png": "[encoded data removed]",
      "text/plain": [
       "<Figure size 432x288 with 1 Axes>"
      ]
     },
     "metadata": {
      "needs_background": "light"
     },
     "output_type": "display_data"
    }
   ],
   "source": [
    "plt.plot(x, y_true)"
   ]
  },
  {
   "cell_type": "code",
   "execution_count": 100,
   "metadata": {},
   "outputs": [],
   "source": [
    "def ndiff(fun, x, full, sol):\n",
    "    #Define machine epsilon\n",
    "    eps = 2**-52\n",
    "    dx = eps**(1/3)\n",
    "    #Define value for dx to calculate two points\n",
    "    x1 = x+dx \n",
    "    dx=x1-x\n",
    "    #recalculate dx so that it represents the smallest amount between x and the next representable number \n",
    "    #in double-point precision\n",
    "    fx1 = fun(x + dx)\n",
    "    fx2 = fun(x - dx)\n",
    "    deriv = (fx1 - fx2)/(2*dx)\n",
    "    print(sol - deriv)\n",
    "    error =  eps*(fun(x)/dx)\n",
    "    if not full:\n",
    "        return deriv, dx, error\n",
    "    else : \n",
    "        return deriv"
   ]
  },
  {
   "cell_type": "code",
   "execution_count": 101,
   "metadata": {},
   "outputs": [
    {
     "name": "stdout",
     "output_type": "stream",
     "text": [
      "1.4667378422927868e-10\n"
     ]
    },
    {
     "data": {
      "text/plain": [
       "(7.999999999853326, 6.055454452535969e-06, 5.86696457986346e-10)"
      ]
     },
     "execution_count": 101,
     "metadata": {},
     "output_type": "execute_result"
    }
   ],
   "source": [
    "def func(x):\n",
    "    return x**2\n",
    "ndiff(func, 4, False, 8)"
   ]
  },
  {
   "cell_type": "code",
   "execution_count": null,
   "metadata": {},
   "outputs": [],
   "source": []
  }
 ],
 "metadata": {
  "kernelspec": {
   "display_name": "Python 3",
   "language": "python",
   "name": "python3"
  },
  "language_info": {
   "codemirror_mode": {
    "name": "ipython",
    "version": 3
   },
   "file_extension": ".py",
   "mimetype": "text/x-python",
   "name": "python",
   "nbconvert_exporter": "python",
   "pygments_lexer": "ipython3",
   "version": "3.8.5"
  }
 },
 "nbformat": 4,
 "nbformat_minor": 4
}
